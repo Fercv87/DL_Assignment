{
 "cells": [
  {
   "cell_type": "markdown",
   "metadata": {},
   "source": [
    "## 1. We detect the file encoding\n",
    "    ## age_gender.csv\n",
    "    \n",
    "        # The detected encoding of the file is: ascii"
   ]
  },
  {
   "cell_type": "code",
   "execution_count": 7,
   "metadata": {},
   "outputs": [],
   "source": [
    "#!pip install chardet\n",
    "#!pip install statsmodels"
   ]
  },
  {
   "cell_type": "code",
   "execution_count": 8,
   "metadata": {},
   "outputs": [],
   "source": [
    "from colorama import Back, Fore"
   ]
  },
  {
   "cell_type": "code",
   "execution_count": 20,
   "metadata": {},
   "outputs": [
    {
     "name": "stdout",
     "output_type": "stream",
     "text": [
      "\u001b[41mThe detected encoding of the file is:\u001b[49m \n",
      "\u001b[44mascii\u001b[49m\n"
     ]
    }
   ],
   "source": [
    "import inspect\n",
    "import chardet\n",
    "def detect_file_encoding(file_path):\n",
    "    \"\"\"Detect the encoding of a given file.\"\"\"\n",
    "    with open(file_path, 'rb') as file:\n",
    "        result = chardet.detect(file.read())\n",
    "    return result['encoding']\n",
    "\n",
    "# Example usage:\n",
    "file_path = 'C:\\\\Users\\\\fercv\\\\OneDrive\\\\Desktop\\\\\\AI_Master_Degree\\\\5_Deep_Learning\\\\data\\\\age_gender.csv'\n",
    "detected_encoding = detect_file_encoding(file_path)\n",
    "\n",
    "print(f'{Back.RED}The detected encoding of the file is:{Back.RESET}',\n",
    "    f\"\\n{Back.BLUE}{detected_encoding}{Back.RESET}\")"
   ]
  },
  {
   "cell_type": "markdown",
   "metadata": {},
   "source": [
    "## 2. We load our built-in functions"
   ]
  },
  {
   "cell_type": "code",
   "execution_count": 10,
   "metadata": {},
   "outputs": [
    {
     "name": "stdout",
     "output_type": "stream",
     "text": [
      "calculate_memory_savings\n",
      "display\n",
      "process_dates\n",
      "visualize_data\n"
     ]
    }
   ],
   "source": [
    "import inspect\n",
    "import sys\n",
    "sys.path.append('C:\\\\Users\\\\fercv\\\\OneDrive\\\\Desktop\\\\Python\\\\00_Basics')\n",
    "import Python_Functions_20231230_v4 as my_functions\n",
    "# Get all the members of the module\n",
    "all_members = inspect.getmembers(my_functions)\n",
    "# Filter out only the functions\n",
    "function_members = [member for member in all_members if inspect.isfunction(member[1])]\n",
    "# Now function_members contains all the functions within your module\n",
    "# Print the names of the functions\n",
    "for name, func in function_members:\n",
    "    print(name)"
   ]
  },
  {
   "cell_type": "code",
   "execution_count": 11,
   "metadata": {},
   "outputs": [],
   "source": [
    "from Glimpse_20231230_v1 import DataFrameGlimpser"
   ]
  },
  {
   "cell_type": "code",
   "execution_count": 25,
   "metadata": {},
   "outputs": [],
   "source": [
    "from Visualise_Data_20240217_v3 import DataVisualizer"
   ]
  },
  {
   "cell_type": "code",
   "execution_count": 26,
   "metadata": {},
   "outputs": [
    {
     "name": "stdout",
     "output_type": "stream",
     "text": [
      "__init__\n",
      "reorder_categories\n",
      "set_custom_palette\n",
      "visualize_all\n",
      "visualize_box_violin_plots\n",
      "visualize_correlation_matrix\n",
      "visualize_joint_plots\n",
      "visualize_kdeplots\n",
      "visualize_lm_line_plots\n",
      "visualize_pairplots\n",
      "visualize_strip_plots\n"
     ]
    }
   ],
   "source": [
    "all_members = inspect.getmembers(DataVisualizer)\n",
    "function_members = [member for member in all_members if inspect.isfunction(member[1])]\n",
    "for name, func in function_members:\n",
    "    print(name)"
   ]
  },
  {
   "cell_type": "markdown",
   "metadata": {},
   "source": [
    "## 3. We load the dataset"
   ]
  },
  {
   "cell_type": "code",
   "execution_count": 29,
   "metadata": {},
   "outputs": [],
   "source": [
    "#We load the data\n",
    "import pandas as pd\n",
    "age_gender_data = pd.read_csv(file_path, delimiter=',', encoding=detected_encoding)\n",
    "#age_gender_data['gender'].value_counts().rename(index={0:'Male',1:'Female'})\n",
    "#age_gender_data['age'].value_counts()\n",
    "#age_gender_data['ethnicity'].value_counts()"
   ]
  },
  {
   "cell_type": "code",
   "execution_count": null,
   "metadata": {},
   "outputs": [],
   "source": [
    "glimpser = DataFrameGlimpser(age_gender_data)\n",
    "#glimpser.set_df_name('age_gender_data')  # Optional: Set a custom name\n",
    "#glimpser.glimpse()"
   ]
  },
  {
   "cell_type": "code",
   "execution_count": 16,
   "metadata": {},
   "outputs": [
    {
     "name": "stdout",
     "output_type": "stream",
     "text": [
      "<class 'pandas.core.frame.DataFrame'>\n",
      "RangeIndex: 23705 entries, 0 to 23704\n",
      "Data columns (total 5 columns):\n",
      " #   Column     Non-Null Count  Dtype \n",
      "---  ------     --------------  ----- \n",
      " 0   age        23705 non-null  int64 \n",
      " 1   ethnicity  23705 non-null  int64 \n",
      " 2   gender     23705 non-null  int64 \n",
      " 3   img_name   23705 non-null  object\n",
      " 4   pixels     23705 non-null  object\n",
      "dtypes: int64(3), object(2)\n",
      "memory usage: 926.1+ KB\n",
      "None\n"
     ]
    }
   ],
   "source": [
    "print(age_gender_data.info())"
   ]
  },
  {
   "cell_type": "markdown",
   "metadata": {},
   "source": [
    "## 4. We visualise the variables of our dataset"
   ]
  },
  {
   "cell_type": "code",
   "execution_count": null,
   "metadata": {},
   "outputs": [],
   "source": [
    "visualizer = DataVisualizer(age_gender_data, plot_width=8, plot_height=5)\n",
    "#visualizer.visualize_all(num_vars=['age','ethnicity'], cat_vars=['ethnicity','gender'], hue=['ethnicity','gender'])\n",
    "#visualizer.visualize_all(num_vars=['age','ethnicity'], cat_vars=['gender'], hue=['ethnicity','gender'])"
   ]
  },
  {
   "cell_type": "markdown",
   "metadata": {},
   "source": [
    "## 5. We apply necessary transformations to the dataset"
   ]
  },
  {
   "cell_type": "code",
   "execution_count": 18,
   "metadata": {},
   "outputs": [
    {
     "name": "stdout",
     "output_type": "stream",
     "text": [
      "<class 'pandas.core.frame.DataFrame'>\n",
      "RangeIndex: 23705 entries, 0 to 23704\n",
      "Data columns (total 4 columns):\n",
      " #   Column     Non-Null Count  Dtype   \n",
      "---  ------     --------------  -----   \n",
      " 0   age        23705 non-null  int64   \n",
      " 1   ethnicity  23705 non-null  int64   \n",
      " 2   gender     23705 non-null  category\n",
      " 3   pixels     23705 non-null  object  \n",
      "dtypes: category(1), int64(2), object(1)\n",
      "memory usage: 579.0+ KB\n",
      "None\n",
      "   age  ethnicity gender                                             pixels\n",
      "0    1          2      0  129 128 128 126 127 130 133 135 139 142 145 14...\n",
      "1    1          2      0  164 74 111 168 169 171 175 182 184 188 193 199...\n",
      "Total rows: 23705\n",
      "Total columns: 4\n"
     ]
    }
   ],
   "source": [
    "#We get rid of the columns we don't need: img_name\n",
    "age_gender_data_clean = age_gender_data.drop(columns=['img_name'])\n",
    "print(age_gender_data_clean.info())\n",
    "print(age_gender_data_clean.head(2))\n",
    "\n",
    "print('Total rows: {}'.format(len(age_gender_data_clean)))\n",
    "print('Total columns: {}'.format(len(age_gender_data_clean.columns)))\n"
   ]
  },
  {
   "cell_type": "code",
   "execution_count": 19,
   "metadata": {},
   "outputs": [],
   "source": [
    "import pandas as pd\n",
    "import numpy as np\n",
    "import torch\n",
    "\n",
    "# Assuming `df` is your DataFrame\n",
    "pixels = age_gender_data_clean['pixels'].apply(lambda x: [int(pixel) for pixel in x.split()])\n",
    "\n",
    "# Convert pixels to a numpy array and reshape\n",
    "# Assuming images are 48x48 pixels, adjust the size as necessary\n",
    "pixel_arrays = np.array(pixels.tolist()).reshape(-1, 48, 48, 1)\n",
    "\n",
    "# Normalize pixel values to be between 0 and 1\n",
    "pixel_arrays_normalized = pixel_arrays / 255.0\n",
    "\n",
    "# Convert numpy array to a PyTorch tensor\n",
    "# Note: PyTorch expects the channel dimension to be the second dimension, not the last\n",
    "pixel_tensors = torch.tensor(pixel_arrays_normalized, dtype=torch.float32).permute(0, 3, 1, 2)\n"
   ]
  }
 ],
 "metadata": {
  "kernelspec": {
   "display_name": "tensorflow_env",
   "language": "python",
   "name": "python3"
  },
  "language_info": {
   "codemirror_mode": {
    "name": "ipython",
    "version": 3
   },
   "file_extension": ".py",
   "mimetype": "text/x-python",
   "name": "python",
   "nbconvert_exporter": "python",
   "pygments_lexer": "ipython3",
   "version": "3.11.5"
  }
 },
 "nbformat": 4,
 "nbformat_minor": 2
}
